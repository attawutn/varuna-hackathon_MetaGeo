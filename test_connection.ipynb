{
  "nbformat": 4,
  "nbformat_minor": 0,
  "metadata": {
    "colab": {
      "name": "Untitled3.ipynb",
      "provenance": [],
      "authorship_tag": "ABX9TyObBUqD7PI6ptvmnW4WpCZU",
      "include_colab_link": true
    },
    "kernelspec": {
      "name": "python3",
      "display_name": "Python 3"
    },
    "language_info": {
      "name": "python"
    }
  },
  "cells": [
    {
      "cell_type": "markdown",
      "metadata": {
        "id": "view-in-github",
        "colab_type": "text"
      },
      "source": [
        "<a href=\"https://colab.research.google.com/github/attawutn/varuna-hackathon_MetaGeo/blob/main/test_connection.ipynb\" target=\"_parent\"><img src=\"https://colab.research.google.com/assets/colab-badge.svg\" alt=\"Open In Colab\"/></a>"
      ]
    },
    {
      "cell_type": "code",
      "execution_count": null,
      "metadata": {
        "colab": {
          "base_uri": "https://localhost:8080/"
        },
        "id": "zGCxv57eoy2Y",
        "outputId": "596b115a-5c45-43fb-b618-52314fffde32"
      },
      "outputs": [
        {
          "output_type": "stream",
          "name": "stdout",
          "text": [
            "Mounted at /content/drive/\n"
          ]
        }
      ],
      "source": [
        "from google.colab import drive\n",
        "drive.mount('/content/drive/', force_remount=True)"
      ]
    },
    {
      "cell_type": "code",
      "source": [
        "# Working with raster data\n",
        "import rasterio\n",
        "import matplotlib.pyplot as plt\n",
        "\n",
        "# Open image files\n",
        "R_dataset = rasterio.open('/content/drive/MyDrive/gdrive/MyDrive/sentinel-2-image/2021/20210106/IMG_DATA/47PQS_20210106_B04.jp2')\n",
        "NIR_dataset = rasterio.open('/content/drive/MyDrive/gdrive/MyDrive/sentinel-2-image/2021/20210106/IMG_DATA/47PQS_20210106_B08.jp2')\n",
        "print(f'Dataset profile : {R_dataset.profile}') # `profile` contains metadata about an image such as dimension, number of channels, and co-ordinate reference system \n",
        "\n",
        "# Read image data from dataset\n",
        "R = R_dataset.read()[0]       # Read raster data from dataset, the array size will be equal to dimension in the dataset profile\n",
        "NIR = NIR_dataset.read()[0]\n",
        "\n",
        "plt.figure()\n",
        "plt.imshow(R, cmap='Reds')\n",
        "plt.figure()\n",
        "plt.imshow(NIR)"
      ],
      "metadata": {
        "id": "RKcUnL1Zo97S"
      },
      "execution_count": null,
      "outputs": []
    }
  ]
}