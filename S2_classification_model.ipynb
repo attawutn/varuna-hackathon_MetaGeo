{
  "cells": [
    {
      "cell_type": "markdown",
      "metadata": {
        "id": "MA_QpoqvhVCR"
      },
      "source": [
        "# **Setup Library**"
      ]
    },
    {
      "cell_type": "code",
      "execution_count": null,
      "metadata": {
        "id": "U3vuKbQVfOb9"
      },
      "outputs": [],
      "source": [
        "# Requirements, will skip if already installed\n",
        "%pip install geopandas rasterio rasterstats shapely\n",
        "%pip install folium earthengine-api\n",
        "%pip install scikit-learn\n",
        "%pip install treeinterpreter"
      ]
    },
    {
      "cell_type": "code",
      "execution_count": null,
      "metadata": {
        "id": "XsHy1wJbmU71"
      },
      "outputs": [],
      "source": [
        "from os import path as op\n",
        "import pickle\n",
        "\n",
        "import geopandas as gpd\n",
        "import shapely as shp\n",
        "import matplotlib.pyplot as plt\n",
        "import numpy as np\n",
        "import rasterio\n",
        "from rasterio.mask import mask\n",
        "from rasterio.features import rasterize\n",
        "from rasterstats.io import bounds_window\n",
        "import rasterstats\n",
        "import folium\n",
        "\n",
        "from sklearn.metrics import confusion_matrix\n",
        "from sklearn.model_selection import train_test_split\n",
        "from sklearn.ensemble import RandomForestClassifier\n",
        "from treeinterpreter import treeinterpreter as ti"
      ]
    },
    {
      "cell_type": "code",
      "execution_count": null,
      "metadata": {
        "id": "FKLq0dUpmY9t"
      },
      "outputs": [],
      "source": [
        "from google.colab import drive\n",
        "drive.mount('/content/drive/', force_remount=True)"
      ]
    },
    {
      "cell_type": "code",
      "execution_count": null,
      "metadata": {
        "id": "papJVHd4mdKB"
      },
      "outputs": [],
      "source": [
        "# your root directory for outputs is set to your google drive\n",
        "# you should create a sub-folder called data under your 'Colab Notebooks'.\n",
        "# An example is in https://developmentseed.org/sat-ml-training/GettingStarted#Explore-your-drive\n",
        "my_root_dir = #\"/content/drive/MyDrive/Colab Notebooks/Data/\""
      ]
    },
    {
      "cell_type": "markdown",
      "metadata": {
        "id": "TXuwFvgXVsgg"
      },
      "source": [
        "# **Reprojection**"
      ]
    },
    {
      "cell_type": "code",
      "execution_count": null,
      "metadata": {
        "id": "_h0ZNAwyVvHr"
      },
      "outputs": [],
      "source": [
        "import numpy as np\n",
        "import rasterio\n",
        "from rasterio.warp import calculate_default_transform, reproject, Resampling\n",
        "import geopandas\n",
        "\n",
        "src_file = #'/content/drive/MyDrive/Colab Notebooks/Data/S2.tif'\n",
        "dst_file = #'/content/drive/MyDrive/Colab Notebooks/Data/S2_4326.tif'\n",
        "dst_crs = {'init': 'EPSG:4326'}\n",
        "\n",
        "with rasterio.open(src_file) as src:\n",
        "    transform, width, height = calculate_default_transform(\n",
        "        src.crs, dst_crs, src.width, src.height, *src.bounds)\n",
        "    kwargs = src.meta.copy()\n",
        "    kwargs.update({\n",
        "        'crs': dst_crs,\n",
        "        'transform': transform,\n",
        "        'width': width,\n",
        "        'height': height\n",
        "    })\n",
        "\n",
        "    with rasterio.open(dst_file, 'w', **kwargs) as dst:\n",
        "        for i in range(1, src.count + 1):\n",
        "            reproject(\n",
        "                source=rasterio.band(src, i),\n",
        "                destination=rasterio.band(dst, i),\n",
        "                src_transform=src.transform,\n",
        "                src_crs=src.crs,\n",
        "                dst_transform=transform,\n",
        "                dst_crs=dst_crs,\n",
        "                resampling=Resampling.nearest)"
      ]
    },
    {
      "cell_type": "markdown",
      "metadata": {
        "id": "9_t59MK-Vt7h"
      },
      "source": [
        "\n",
        "\n",
        "---\n",
        "\n"
      ]
    },
    {
      "cell_type": "markdown",
      "metadata": {
        "id": "MOapN02OTDVA"
      },
      "source": [
        "# **Prepare Data & Training Data**"
      ]
    },
    {
      "cell_type": "code",
      "execution_count": null,
      "metadata": {
        "id": "nfsUpn4dd4In"
      },
      "outputs": [],
      "source": [
        "##If you want to read the data directly from the shared folder, uncomment the following line.\n",
        "raster_file = '/content/drive/MyDrive/Colab Notebooks/Data/S2_4326.tif'\n",
        "\n",
        "full_dataset = rasterio.open(raster_file)\n",
        "img_rows, img_cols = full_dataset.shape\n",
        "img_bands = full_dataset.count\n",
        "print(full_dataset.shape) # dimensions\n",
        "print(full_dataset.count) # bands\n",
        "print(full_dataset.crs)"
      ]
    },
    {
      "cell_type": "markdown",
      "metadata": {
        "id": "f_RMcyIqKP-W"
      },
      "source": [
        "\n",
        "\n",
        "---\n",
        "\n"
      ]
    },
    {
      "cell_type": "markdown",
      "metadata": {
        "id": "KP1ms-VClx86"
      },
      "source": [
        "# **Prepare Vector**"
      ]
    },
    {
      "cell_type": "code",
      "execution_count": null,
      "metadata": {
        "id": "j7Rj5P9VlXzj"
      },
      "outputs": [],
      "source": [
        "# read in training data polygons that created as geojson from a shared directory\n",
        "training_data = '/content/drive/MyDrive/Colab Notebooks/Data/Training_data_4326.geojson'\n",
        "training_vectors = gpd.read_file(training_data)\n",
        "\n",
        "# make a bounding box and centroid for mapping\n",
        "bbox = training_vectors.total_bounds\n",
        "center = shp.geometry.box(bbox[0], bbox[1], bbox[2], bbox[3]).centroid\n",
        "\n",
        "# show the 1st 5 lines\n",
        "training_vectors.head()\n",
        "\n",
        "len(training_vectors)\n",
        "\n",
        "points_clean = training_vectors[training_vectors.geometry.type == 'Point']\n",
        "\n",
        "len(training_vectors)\n",
        "\n",
        "# find all unique values of training data names to use as classes\n",
        "classes = np.unique(points_clean.NAME)\n",
        "print(classes)\n",
        "\n",
        "# create a dictionary to convert class names into integers for modeling\n",
        "class_dict = dict(zip(classes, range(len(classes))))\n",
        "print(class_dict)    \n",
        "\n",
        "print(len(training_vectors))"
      ]
    },
    {
      "cell_type": "markdown",
      "metadata": {
        "id": "Glrk8FEIe2lu"
      },
      "source": [
        "\n",
        "\n",
        "---\n",
        "\n"
      ]
    },
    {
      "cell_type": "code",
      "execution_count": null,
      "metadata": {
        "id": "AtZcx71NKRD-"
      },
      "outputs": [],
      "source": [
        "# raster information\n",
        "# a custom function for getting each value from the raster\n",
        "def all_values(x):\n",
        "    return x\n",
        "\n",
        "# this larger cell reads data from a raster file for each training vector\n",
        "X_raw = []\n",
        "y_raw = []\n",
        "with rasterio.open(raster_file, 'r') as src:\n",
        "    for (label, geom) in zip(points_clean.NAME, points_clean.geometry):\n",
        "        \n",
        "        # read the raster data matching the geometry bounds\n",
        "        window = bounds_window(geom.bounds, src.transform)\n",
        "        # store our window information\n",
        "        window_affine = src.window_transform(window)\n",
        "        fsrc = src.read(window=window)\n",
        "        # rasterize the geometry into the larger shape and affine\n",
        "        mask = rasterize(\n",
        "            [(geom, 1)],\n",
        "            out_shape=fsrc.shape[1:],\n",
        "            transform=window_affine,\n",
        "            fill=0,\n",
        "            dtype='float',\n",
        "            all_touched=True\n",
        "        ).astype(bool)\n",
        "        \n",
        "        # for each label pixel (places where the mask is true)\n",
        "        label_pixels = np.argwhere(mask)\n",
        "        \n",
        "        for (row, col) in label_pixels:\n",
        "            # add a pixel of data to X\n",
        "            data = fsrc[:,row,col]\n",
        "            one_x = np.nan_to_num(data, nan=1e-3)\n",
        "            X_raw.append(one_x)\n",
        "            # add the label to y\n",
        "            y_raw.append(class_dict[label])"
      ]
    },
    {
      "cell_type": "code",
      "execution_count": null,
      "metadata": {
        "id": "iZBhRmQ2KRIG"
      },
      "outputs": [],
      "source": [
        "# convert the training data lists into the appropriate numpy array shape and format for scikit-learn\n",
        "X = np.array(X_raw)\n",
        "y = np.array(y_raw)\n",
        "print(X.shape, y.shape)\n",
        "print(type(X), type(y))"
      ]
    },
    {
      "cell_type": "code",
      "execution_count": null,
      "metadata": {
        "id": "2A3XqNlza-eD"
      },
      "outputs": [],
      "source": [
        "#from sklearn import preprocessing\n",
        "#min_max_scaler = preprocessing.MinMaxScaler()\n",
        "#X = min_max_scaler.fit_transform(X)\n",
        "#y = np.ravel(y)\n",
        "#y.reshape(-1)"
      ]
    },
    {
      "cell_type": "markdown",
      "metadata": {
        "id": "qxU5HIrHpXbH"
      },
      "source": [
        "\n",
        "\n",
        "---\n",
        "\n",
        "\n",
        "\n",
        "---\n",
        "\n"
      ]
    },
    {
      "cell_type": "code",
      "execution_count": null,
      "metadata": {
        "id": "sVAh17e5YqHr"
      },
      "outputs": [],
      "source": [
        "# split the data into test and train sets\n",
        "X_train, X_test, y_train, y_test = train_test_split(X, y, test_size=0.4, random_state=42)"
      ]
    },
    {
      "cell_type": "code",
      "execution_count": null,
      "metadata": {
        "id": "Fmcgn1s1pZBe"
      },
      "outputs": [],
      "source": [
        "# calculate class weights to allow for training on inbalanced training samples\n",
        "labels, counts = np.unique(y_train, return_counts=True)\n",
        "class_weight_dict = dict(zip(labels, 1 / counts))\n",
        "class_weight_dict"
      ]
    },
    {
      "cell_type": "code",
      "execution_count": null,
      "metadata": {
        "id": "dP5xMoZbRaMt"
      },
      "outputs": [],
      "source": [
        "print(X_train.shape)\n",
        "print(X_test.shape)\n",
        "print(y_train.shape)\n",
        "print(y_test.shape)"
      ]
    },
    {
      "cell_type": "markdown",
      "metadata": {
        "id": "eVJkACGYphBA"
      },
      "source": [
        "\n",
        "\n",
        "---\n",
        "\n"
      ]
    },
    {
      "cell_type": "markdown",
      "metadata": {
        "id": "MPp25w7BtBCn"
      },
      "source": [
        "# **Machine Learning**"
      ]
    },
    {
      "cell_type": "code",
      "execution_count": null,
      "metadata": {
        "id": "0jcQ1NfLtAeX"
      },
      "outputs": [],
      "source": [
        "from sklearn.neighbors import KNeighborsClassifier\n",
        "from sklearn.naive_bayes import GaussianNB\n",
        "from sklearn.tree import DecisionTreeClassifier\n",
        "from sklearn.svm import SVC\n",
        "from sklearn.ensemble import RandomForestClassifier\n",
        "from sklearn.ensemble import GradientBoostingClassifier\n",
        "from sklearn.neural_network import MLPClassifier\n",
        "from xgboost import XGBClassifier\n",
        "########################################################\n",
        "import pandas as pd\n",
        "from sklearn.metrics import classification_report\n",
        "from sklearn.metrics import confusion_matrix, ConfusionMatrixDisplay\n",
        "from sklearn.metrics import accuracy_score\n",
        "########################################################\n",
        "from rasterio.plot import show\n",
        "from rasterio.plot import show_hist\n",
        "from rasterio.windows import Window\n",
        "from rasterio.plot import reshape_as_raster, reshape_as_image\n",
        "import sklearn"
      ]
    },
    {
      "cell_type": "code",
      "execution_count": null,
      "metadata": {
        "id": "_SQa8mLNtAgu"
      },
      "outputs": [],
      "source": [
        "SVC_model = SVC()\n",
        "KNN_model = KNeighborsClassifier()\n",
        "GNB_model = GaussianNB()\n",
        "DT_model = DecisionTreeClassifier()\n",
        "RF_model = RandomForestClassifier()\n",
        "GB_model = GradientBoostingClassifier()\n",
        "MLP_model = MLPClassifier()\n",
        "XGB_model = XGBClassifier()\n",
        "deep_MLP_model = MLPClassifier(hidden_layer_sizes=(int(full_dataset.count),200,200,200,labels.size),activation=\"relu\" ,random_state=1, max_iter=1000)"
      ]
    },
    {
      "cell_type": "code",
      "execution_count": null,
      "metadata": {
        "id": "0IId7Pf-tAi-"
      },
      "outputs": [],
      "source": [
        "SVC_model.fit(X_train, y_train)\n",
        "KNN_model.fit(X_train, y_train)\n",
        "GNB_model.fit(X_train, y_train)\n",
        "DT_model.fit(X_train, y_train)\n",
        "RF_model.fit(X_train, y_train)\n",
        "GB_model.fit(X_train, y_train)\n",
        "MLP_model.fit(X_train, y_train)\n",
        "XGB_model.fit(X_train, y_train)"
      ]
    },
    {
      "cell_type": "code",
      "execution_count": null,
      "metadata": {
        "id": "YJaYHvA-tAlK"
      },
      "outputs": [],
      "source": [
        "SVC_prediction = SVC_model.predict(X_test)\n",
        "KNN_prediction = KNN_model.predict(X_test)\n",
        "GNB_prediction = GNB_model.predict(X_test)\n",
        "DT_prediction = DT_model.predict(X_test)\n",
        "RF_prediction = RF_model.predict(X_test)\n",
        "GB_prediction = GB_model.predict(X_test)\n",
        "MLP_prediction = MLP_model.predict(X_test)\n",
        "XGB_prediction = XGB_model.predict(X_test)"
      ]
    },
    {
      "cell_type": "markdown",
      "metadata": {
        "id": "nfM5Na7MqHWg"
      },
      "source": [
        "\n",
        "\n",
        "---\n",
        "\n",
        "\n"
      ]
    },
    {
      "cell_type": "markdown",
      "metadata": {
        "id": "BoY8gcsvupW3"
      },
      "source": [
        "# **Performance**"
      ]
    },
    {
      "cell_type": "code",
      "execution_count": null,
      "metadata": {
        "id": "dapIX2yrunpu"
      },
      "outputs": [],
      "source": [
        "SVC_accuracy = accuracy_score(SVC_prediction, y_test)\n",
        "print(\"Accuracy: %.2f%%\" % (SVC_accuracy * 100.0))\n",
        "print(classification_report(SVC_prediction, y_test))\n",
        "print(confusion_matrix(SVC_prediction, y_test))\n",
        "#report_SVC = pd.DataFrame(classification_report(SVC_prediction, y_test, digits=2,output_dict=True)).T\n",
        "#report_SVC['support'] = report_SVC.support.apply(int)\n",
        "#report_SVC.to_csv('/content/gdrive/MyDrive/Colab Notebooks/Data/classification_report/' + exp_no + \"SVC_\"  + polarization +  '.csv',encoding='utf-8-sig')"
      ]
    },
    {
      "cell_type": "code",
      "execution_count": null,
      "metadata": {
        "id": "zxG2xtmNnQUA"
      },
      "outputs": [],
      "source": [
        "disp = ConfusionMatrixDisplay(confusion_matrix=confusion_matrix(SVC_prediction, y_test),display_labels=SVC_model.classes_)\n",
        "disp.plot()\n",
        "plt.show()"
      ]
    },
    {
      "cell_type": "code",
      "execution_count": null,
      "metadata": {
        "id": "bKsXuVd8unr1"
      },
      "outputs": [],
      "source": [
        "KNN_accuracy = accuracy_score(KNN_prediction, y_test)\n",
        "print(\"Accuracy: %.2f%%\" % (KNN_accuracy * 100.0))\n",
        "print(classification_report(KNN_prediction, y_test))\n",
        "print(confusion_matrix(KNN_prediction, y_test))\n",
        "\n",
        "#report_KNN = pd.DataFrame(classification_report(KNN_prediction, y_test, digits=2,output_dict=True)).T\n",
        "#report_KNN['support'] = report_KNN.support.apply(int)\n",
        "#report_KNN.to_csv('/content/gdrive/MyDrive/Colab Notebooks/Data/classification_report/' + exp_no + \"KNN_\" + polarization +  '.csv',encoding='utf-8-sig')"
      ]
    },
    {
      "cell_type": "code",
      "execution_count": null,
      "metadata": {
        "id": "nj9j4KALnWXp"
      },
      "outputs": [],
      "source": [
        "disp = ConfusionMatrixDisplay(confusion_matrix=confusion_matrix(KNN_prediction, y_test),display_labels=KNN_model.classes_)\n",
        "disp.plot()\n",
        "plt.show()"
      ]
    },
    {
      "cell_type": "code",
      "execution_count": null,
      "metadata": {
        "id": "sXvmCttiunuN"
      },
      "outputs": [],
      "source": [
        "GNB_accuracy = accuracy_score(GNB_prediction, y_test)\n",
        "print(\"Accuracy: %.2f%%\" % (GNB_accuracy * 100.0))\n",
        "print(classification_report(GNB_prediction, y_test))\n",
        "print(confusion_matrix(GNB_prediction, y_test))\n",
        "\n",
        "#report_GNB = pd.DataFrame(classification_report(GNB_prediction, y_test, digits=2,output_dict=True)).T\n",
        "#report_GNB['support'] = report_GNB.support.apply(int)\n",
        "#report_GNB.to_csv('/content/gdrive/MyDrive/Colab Notebooks/Data/classification_report/' + exp_no + \"GNB_\" + polarization +  '.csv',encoding='utf-8-sig')"
      ]
    },
    {
      "cell_type": "code",
      "execution_count": null,
      "metadata": {
        "id": "t309NFC6nZye"
      },
      "outputs": [],
      "source": [
        "disp = ConfusionMatrixDisplay(confusion_matrix=confusion_matrix(GNB_prediction, y_test),display_labels=GNB_model.classes_)\n",
        "disp.plot()\n",
        "plt.show()"
      ]
    },
    {
      "cell_type": "code",
      "execution_count": null,
      "metadata": {
        "id": "uyaOKcyqu53l"
      },
      "outputs": [],
      "source": [
        "DT_accuracy = accuracy_score(DT_prediction, y_test)\n",
        "print(\"Accuracy: %.2f%%\" % (DT_accuracy * 100.0))\n",
        "print(classification_report(DT_prediction, y_test))\n",
        "print(confusion_matrix(DT_prediction, y_test))\n",
        "\n",
        "#report_DT = pd.DataFrame(classification_report(DT_prediction, y_test, digits=2,output_dict=True)).T\n",
        "#report_DT['support'] = report_DT.support.apply(int)\n",
        "#report_DT.to_csv('/content/gdrive/MyDrive/Colab Notebooks/Data/classification_report/' + exp_no + \"DT_\" + polarization +  '.csv',encoding='utf-8-sig')"
      ]
    },
    {
      "cell_type": "code",
      "execution_count": null,
      "metadata": {
        "id": "maJtId6dnbwT"
      },
      "outputs": [],
      "source": [
        "disp = ConfusionMatrixDisplay(confusion_matrix=confusion_matrix(DT_prediction, y_test),display_labels=DT_model.classes_)\n",
        "disp.plot()\n",
        "plt.show()"
      ]
    },
    {
      "cell_type": "code",
      "execution_count": null,
      "metadata": {
        "id": "Cz_waApwu55v"
      },
      "outputs": [],
      "source": [
        "RF_accuracy = accuracy_score(RF_prediction, y_test)\n",
        "print(\"Accuracy: %.2f%%\" % (RF_accuracy * 100.0))\n",
        "print(classification_report(RF_prediction, y_test))\n",
        "print(confusion_matrix(RF_prediction, y_test))\n",
        "\n",
        "#report_RF = pd.DataFrame(classification_report(RF_prediction, y_test, digits=2,output_dict=True)).T\n",
        "#report_RF['support'] = report_RF.support.apply(int)\n",
        "#report_RF.to_csv('/content/gdrive/MyDrive/Colab Notebooks/Data/classification_report/' + exp_no + \"RF_\" + polarization +  '.csv',encoding='utf-8-sig')"
      ]
    },
    {
      "cell_type": "code",
      "execution_count": null,
      "metadata": {
        "id": "-zZkpytfneYS"
      },
      "outputs": [],
      "source": [
        "disp = ConfusionMatrixDisplay(confusion_matrix=confusion_matrix(RF_prediction, y_test),display_labels=RF_model.classes_)\n",
        "disp.plot()\n",
        "plt.show()"
      ]
    },
    {
      "cell_type": "code",
      "execution_count": null,
      "metadata": {
        "id": "hZCe9ng1u572"
      },
      "outputs": [],
      "source": [
        "GB_accuracy = accuracy_score(GB_prediction, y_test)\n",
        "print(\"Accuracy: %.2f%%\" % (GB_accuracy * 100.0))\n",
        "print(classification_report(GB_prediction, y_test))\n",
        "print(confusion_matrix(GB_prediction, y_test))\n",
        "\n",
        "#report_GB = pd.DataFrame(classification_report(GB_prediction, y_test, digits=2,output_dict=True)).T\n",
        "#report_GB['support'] = report_GB.support.apply(int)\n",
        "#report_GB.to_csv('/content/gdrive/MyDrive/Colab Notebooks/Data/classification_report/' + exp_no + \"GB_\" + polarization +  '.csv',encoding='utf-8-sig')"
      ]
    },
    {
      "cell_type": "code",
      "execution_count": null,
      "metadata": {
        "id": "ZxgKwQGpnggV"
      },
      "outputs": [],
      "source": [
        "disp = ConfusionMatrixDisplay(confusion_matrix=confusion_matrix(GB_prediction, y_test),display_labels=GB_model.classes_)\n",
        "disp.plot()\n",
        "plt.show()"
      ]
    },
    {
      "cell_type": "code",
      "execution_count": null,
      "metadata": {
        "id": "0F1Y75EVu5-W"
      },
      "outputs": [],
      "source": [
        "MLP_accuracy = accuracy_score(MLP_prediction, y_test)\n",
        "print(\"Accuracy: %.2f%%\" % (MLP_accuracy * 100.0))\n",
        "print(classification_report(MLP_prediction, y_test))\n",
        "print(confusion_matrix(KNN_prediction, y_test))\n",
        "\n",
        "#report_MLP = pd.DataFrame(classification_report(MLP_prediction, y_test, digits=2,output_dict=True)).T\n",
        "#report_MLP['support'] = report_MLP.support.apply(int)\n",
        "#report_MLP.to_csv('/content/gdrive/MyDrive/Colab Notebooks/Data/classification_report/' + exp_no + \"MLP_\" + polarization +  '.csv',encoding='utf-8-sig')"
      ]
    },
    {
      "cell_type": "code",
      "execution_count": null,
      "metadata": {
        "id": "Ih83_qu8njfJ"
      },
      "outputs": [],
      "source": [
        "disp = ConfusionMatrixDisplay(confusion_matrix=confusion_matrix(MLP_prediction, y_test),display_labels=MLP_model.classes_)\n",
        "disp.plot()\n",
        "plt.show()"
      ]
    },
    {
      "cell_type": "code",
      "execution_count": null,
      "metadata": {
        "id": "tjnV9hZsu6Ci"
      },
      "outputs": [],
      "source": [
        "XGB_accuracy = accuracy_score(XGB_prediction, y_test)\n",
        "print(\"Accuracy: %.2f%%\" % (XGB_accuracy * 100.0))\n",
        "print(classification_report(XGB_prediction, y_test))\n",
        "print(confusion_matrix(KNN_prediction, y_test))\n",
        "\n",
        "#report_XGB = pd.DataFrame(classification_report(XGB_prediction, y_test, digits=2,output_dict=True)).T\n",
        "#report_XGB['support'] = report_XGB.support.apply(int)\n",
        "#report_XGB.to_csv('/content/gdrive/MyDrive/Colab Notebooks/Data/classification_report/' + exp_no + \"XGB_\" + polarization +  '.csv',encoding='utf-8-sig')"
      ]
    },
    {
      "cell_type": "code",
      "execution_count": null,
      "metadata": {
        "id": "ry6oCp-AnkdC"
      },
      "outputs": [],
      "source": [
        "disp = ConfusionMatrixDisplay(confusion_matrix=confusion_matrix(XGB_prediction, y_test),display_labels=XGB_model.classes_)\n",
        "disp.plot()\n",
        "plt.show()"
      ]
    },
    {
      "cell_type": "markdown",
      "metadata": {
        "id": "XrfW1oPzzDZO"
      },
      "source": [
        "\n",
        "\n",
        "---\n",
        "\n"
      ]
    },
    {
      "cell_type": "markdown",
      "metadata": {
        "id": "XMUKDY3E_dHn"
      },
      "source": [
        "# **Tuning Hyper Parameter**"
      ]
    },
    {
      "cell_type": "code",
      "execution_count": null,
      "metadata": {
        "id": "6h4v4D02_cl_"
      },
      "outputs": [],
      "source": [
        "# import the necessary packages\n",
        "from sklearn.model_selection import GridSearchCV"
      ]
    },
    {
      "cell_type": "code",
      "execution_count": null,
      "metadata": {
        "id": "PtGxntWI_ap_"
      },
      "outputs": [],
      "source": [
        "SVC_param_grid = {'C': [0.1, 1, 10, 100, 1000], #5\n",
        "              'gamma': [1, 0.1, 0.01, 0.001, 0.0001], #5\n",
        "              'kernel': ['rbf']}\n",
        "#Grid Search\n",
        "SVC_grid_cv = GridSearchCV(SVC(), SVC_param_grid, cv=10, scoring=\"accuracy\", n_jobs=-1)\n",
        "SVC_grid_cv.fit(X_train, y_train)\n",
        "print(\"Best params:\\n\")\n",
        "print(SVC_grid_cv.best_params_)\n",
        "\n",
        "#Test Accuracy\n",
        "SVC_grid_cv_prediction = SVC_grid_cv.predict(X_test)\n",
        "SVC_grid_cv_accuracy = accuracy_score(SVC_grid_cv_prediction, y_test)\n",
        "print(\"Accuracy: %.2f%%\" % (SVC_grid_cv_accuracy * 100.0))\n",
        "print(classification_report(SVC_grid_cv_prediction, y_test))\n",
        "print(confusion_matrix(SVC_grid_cv_prediction, y_test))"
      ]
    },
    {
      "cell_type": "code",
      "execution_count": null,
      "metadata": {
        "id": "vCwmE4y6jWuv"
      },
      "outputs": [],
      "source": [
        "# save the model to disk\n",
        "filename = '/content/drive/MyDrive/Colab Notebooks/Model_save/Machine_Learning/Sentinel-1_Jan_Jul_2019_SVC_grid_cv_13042022.sav'\n",
        "pickle.dump(SVC_grid_cv, open(filename, 'wb'))"
      ]
    },
    {
      "cell_type": "code",
      "execution_count": null,
      "metadata": {
        "id": "V5neOvkD2HbW"
      },
      "outputs": [],
      "source": [
        "KNN_param_grid = {'leaf_size': np.arange(1, 50, step=10), #5\n",
        "              'n_neighbors': np.arange(1, 50, step=10), #5\n",
        "              'p': [1,2,3,4,5]}\n",
        "\n",
        "#Grid Search\n",
        "KNN_grid_cv = GridSearchCV(KNeighborsClassifier(), KNN_param_grid, cv=10, scoring=\"accuracy\", n_jobs=-1)\n",
        "KNN_grid_cv.fit(X_train, y_train)\n",
        "print(\"Best params:\\n\")\n",
        "print(KNN_grid_cv.best_params_)\n",
        "\n",
        "#Test Accuracy\n",
        "KNN_grid_cv_prediction = KNN_grid_cv.predict(X_test)\n",
        "KNN_grid_cv_accuracy = accuracy_score(KNN_grid_cv_prediction, y_test)\n",
        "print(\"Accuracy: %.2f%%\" % (KNN_grid_cv_accuracy * 100.0))\n",
        "print(classification_report(KNN_grid_cv_prediction, y_test))\n",
        "print(confusion_matrix(KNN_grid_cv_prediction, y_test))"
      ]
    },
    {
      "cell_type": "code",
      "execution_count": null,
      "metadata": {
        "id": "L-JqLxuVjXq-"
      },
      "outputs": [],
      "source": [
        "# save the model to disk\n",
        "filename = '/content/drive/MyDrive/Colab Notebooks/Model_save/Machine_Learning/Sentinel-1_Jan_Jul_2019_KNN_grid_cv_13042022.sav'\n",
        "pickle.dump(KNN_grid_cv, open(filename, 'wb'))"
      ]
    },
    {
      "cell_type": "code",
      "execution_count": null,
      "metadata": {
        "id": "Bg3f68G-_asG"
      },
      "outputs": [],
      "source": [
        "RF_param_grid = {\n",
        "    \"n_estimators\": [5,20,50,100], #np.arange(1, 400, step=50),\n",
        "    'max_features': ['auto', 'sqrt'],\n",
        "    'max_depth': [int(x) for x in np.linspace(10, 120, num = 12)],\n",
        "    'min_samples_split': [2, 6, 10],\n",
        "    'min_samples_leaf': [1, 3, 4],\n",
        "    'bootstrap': [True, False],\n",
        "    \"criterion\" : [\"gini\", \"entropy\"],\n",
        "}\n",
        "\n",
        "#Grid Search\n",
        "RF_grid_cv = GridSearchCV(RandomForestClassifier(), RF_param_grid, cv=5, scoring=\"accuracy\", n_jobs=-1)\n",
        "RF_grid_cv.fit(X_train, y_train)\n",
        "print(\"Best params:\\n\")\n",
        "print(RF_grid_cv.best_params_)\n",
        "\n",
        "RF_grid_cv_prediction = RF_grid_cv.predict(X_test)\n",
        "RF_grid_cv_accuracy = accuracy_score(RF_grid_cv_prediction, y_test)\n",
        "print(\"Accuracy: %.2f%%\" % (RF_grid_cv_accuracy * 100.0))\n",
        "print(classification_report(RF_grid_cv_prediction, y_test))\n",
        "print(confusion_matrix(RF_grid_cv_prediction, y_test))"
      ]
    },
    {
      "cell_type": "code",
      "execution_count": null,
      "metadata": {
        "id": "Ko3YHf65jYLm"
      },
      "outputs": [],
      "source": [
        "# save the model to disk\n",
        "filename = '/content/drive/MyDrive/Colab Notebooks/Model_save/Machine_Learning/Sentinel-1_Jan_Jul_2019_RF_grid_cv_13042022.sav'\n",
        "pickle.dump(RF_grid_cv, open(filename, 'wb'))"
      ]
    },
    {
      "cell_type": "code",
      "execution_count": null,
      "metadata": {
        "id": "DhMEYeWQMBN7"
      },
      "outputs": [],
      "source": [
        "GB_param_grid = {\n",
        "      'learning_rate':[0.1,0.01],\n",
        "      'n_estimators':[100,500,1000],\n",
        "      'max_depth':[10,50,100],\n",
        "      #'min_samples_split':[2,4,6,8,10],\n",
        "      #'min_samples_leaf':[1,3,5,7,9],\n",
        "      #'max_features':[2,3,4,5,6],\n",
        "      #'subsample':[0.5,0.6,0.7,0.8,0.9]\n",
        "}\n",
        "\n",
        "#Grid Search\n",
        "GB_grid_cv = GridSearchCV(GradientBoostingClassifier(), GB_param_grid, cv=5, scoring=\"accuracy\", n_jobs=-1)\n",
        "GB_grid_cv.fit(X_train, y_train)\n",
        "print(\"Best params:\\n\")\n",
        "print(GB_grid_cv.best_params_)\n",
        "\n",
        "GB_grid_cv_prediction = GB_grid_cv.predict(X_test)\n",
        "GB_grid_cv_accuracy = accuracy_score(GB_grid_cv_prediction, y_test)\n",
        "print(\"Accuracy: %.2f%%\" % (GB_grid_cv_accuracy * 100.0))\n",
        "print(classification_report(GB_grid_cv_prediction, y_test))\n",
        "print(confusion_matrix(GB_grid_cv_prediction, y_test))"
      ]
    },
    {
      "cell_type": "code",
      "execution_count": null,
      "metadata": {
        "id": "gh65XzFAjZ-G"
      },
      "outputs": [],
      "source": [
        "# save the model to disk\n",
        "filename = '/content/drive/MyDrive/Colab Notebooks/Model_save/Machine_Learning/Sentinel-1_Jan_Jul_2019_GB_grid_cv_13042022.sav'\n",
        "pickle.dump(GB_grid_cv, open(filename, 'wb'))"
      ]
    },
    {
      "cell_type": "code",
      "execution_count": null,
      "metadata": {
        "id": "Fva8ERa__auh"
      },
      "outputs": [],
      "source": [
        "#Tuning Example (3 parameter)\n",
        "MLP_param_grid = {\n",
        "    \"hidden_layer_sizes\": np.arange(100, 1000, step=100),\n",
        "    \"activation\": ['relu'],\n",
        "    'solver': ['adam'],\n",
        "    'learning_rate': ['constant','adaptive'],\n",
        "}\n",
        "\n",
        "#Grid Search\n",
        "MLP_grid_cv = GridSearchCV(MLPClassifier(), MLP_param_grid, cv=5, scoring=\"accuracy\", n_jobs=-1)\n",
        "MLP_grid_cv.fit(X_train, y_train)\n",
        "print(\"Best params:\\n\")\n",
        "print(MLP_grid_cv.best_params_)\n",
        "\n",
        "MLP_grid_cv_prediction = MLP_grid_cv.predict(X_test)\n",
        "MLP_grid_cv_accuracy = accuracy_score(MLP_grid_cv_prediction, y_test)\n",
        "print(\"Accuracy: %.2f%%\" % (MLP_grid_cv_accuracy * 100.0))\n",
        "print(classification_report(MLP_grid_cv_prediction, y_test))\n",
        "print(confusion_matrix(MLP_grid_cv_prediction, y_test))"
      ]
    },
    {
      "cell_type": "code",
      "execution_count": null,
      "metadata": {
        "id": "mC1qIT_LjbSO"
      },
      "outputs": [],
      "source": [
        "# save the model to disk\n",
        "filename = '/content/drive/MyDrive/Colab Notebooks/Model_save/Machine_Learning/Sentinel-1_Jan_Jul_2019_MLP_grid_cv_13042022.sav'\n",
        "pickle.dump(MLP_grid_cv, open(filename, 'wb'))"
      ]
    },
    {
      "cell_type": "code",
      "execution_count": null,
      "metadata": {
        "id": "Ur1S2Yyc_aw8"
      },
      "outputs": [],
      "source": [
        "XGB_param_grid = {\n",
        "      'n_estimators':np.arange(100, 1000, step=100),\n",
        "      'max_depth':np.arange(10, 100, step=10),\n",
        "      'learning_rate':[0.01],\n",
        "      #'min_child_weight' : [1, 3, 5],\n",
        "      #'subsample': [0.7,0.8,0.9],\n",
        "      #'colsample_bytree': [0.5, 0.7],\n",
        "}\n",
        "\n",
        "#Grid Search\n",
        "XGB_grid_cv = GridSearchCV(XGBClassifier(), XGB_param_grid, cv=5, scoring=\"accuracy\", n_jobs=-1)\n",
        "XGB_grid_cv.fit(X_train, y_train)\n",
        "print(\"Best params:\\n\")\n",
        "print(XGB_grid_cv.best_params_)\n",
        "\n",
        "XGB_grid_cv_prediction = XGB_grid_cv.predict(X_test)\n",
        "XGB_grid_cv_accuracy = accuracy_score(XGB_grid_cv_prediction, y_test)\n",
        "print(\"Accuracy: %.2f%%\" % (XGB_grid_cv_accuracy * 100.0))\n",
        "print(classification_report(XGB_grid_cv_prediction, y_test))\n",
        "print(confusion_matrix(XGB_grid_cv_prediction, y_test))"
      ]
    },
    {
      "cell_type": "code",
      "execution_count": null,
      "metadata": {
        "id": "ZLN0sAIA_azV"
      },
      "outputs": [],
      "source": [
        "# save the model to disk\n",
        "filename = '/content/drive/MyDrive/Colab Notebooks/Model_save/Machine_Learning/Sentinel-1_Jan_Jul_2019_XGB_grid_cv_13042022.sav'\n",
        "pickle.dump(XGB_grid_cv, open(filename, 'wb'))"
      ]
    },
    {
      "cell_type": "markdown",
      "metadata": {
        "id": "zSy-AVui_bh4"
      },
      "source": [
        "\n",
        "\n",
        "---\n",
        "\n"
      ]
    },
    {
      "cell_type": "markdown",
      "metadata": {
        "id": "KdwF8uhZzE2V"
      },
      "source": [
        "# **Deep Learning**"
      ]
    },
    {
      "cell_type": "code",
      "execution_count": null,
      "metadata": {
        "id": "j6e35akPu6Es"
      },
      "outputs": [],
      "source": [
        "import os\n",
        "import numpy as np\n",
        "import matplotlib.pyplot as plt\n",
        "########################################################\n",
        "import tensorflow as tf\n",
        "from tensorflow.keras import layers\n",
        "from tensorflow.keras import regularizers\n",
        "\n",
        "print(tf.__version__)\n",
        "\n",
        "import os\n",
        "import numpy as np\n",
        "import matplotlib.pyplot as plt\n",
        "from keras.models import Sequential\n",
        "from keras.layers import Dense\n",
        "from keras.layers import Dropout\n",
        "from keras.regularizers import l2\n",
        "from keras import optimizers\n",
        "from sklearn.model_selection import train_test_split\n",
        "from sklearn import preprocessing\n",
        "from sklearn.metrics import f1_score\n",
        "from sklearn import metrics\n",
        "import sklearn\n",
        "from sklearn.metrics import ConfusionMatrixDisplay\n",
        "print(\"Num GPUs Available: \", len(tf.config.list_physical_devices('GPU')))"
      ]
    },
    {
      "cell_type": "markdown",
      "metadata": {
        "id": "Azq4dRC6TJ6o"
      },
      "source": [
        "# **FCN**"
      ]
    },
    {
      "cell_type": "code",
      "execution_count": null,
      "metadata": {
        "id": "DPDdAsqfu6Jd"
      },
      "outputs": [],
      "source": [
        "model_FCN = tf.keras.Sequential([\n",
        "    #tf.keras.layers.Dense(1024, activation='relu',activity_regularizer=regularizers.l2(0.01)),\n",
        "    #tf.keras.layers.Dropout(0.1),      \n",
        "    tf.keras.layers.Dense(512, activation='relu',activity_regularizer=regularizers.l2(0.01)),\n",
        "    tf.keras.layers.Dropout(0.1),           \n",
        "    tf.keras.layers.Dense(256, activation='relu',activity_regularizer=regularizers.l2(0.01)),\n",
        "    tf.keras.layers.Dropout(0.1), \n",
        "    tf.keras.layers.Dense(128, activation='relu',activity_regularizer=regularizers.l2(0.01)), \n",
        "    tf.keras.layers.Dropout(0.1),\n",
        "    tf.keras.layers.Dense(64, activation='relu',activity_regularizer=regularizers.l2(0.01)),\n",
        "    tf.keras.layers.Dropout(0.1),\n",
        "    tf.keras.layers.Dense(32, activation='relu',activity_regularizer=regularizers.l2(0.01)),\n",
        "    tf.keras.layers.Dropout(0.1),\n",
        "    tf.keras.layers.Dense(16, activation='relu',activity_regularizer=regularizers.l2(0.01)),\n",
        "    tf.keras.layers.Dropout(0.1),\n",
        "    tf.keras.layers.Dense(8, activation='relu',activity_regularizer=regularizers.l2(0.01)),\n",
        "    tf.keras.layers.Dropout(0.1),\n",
        "    tf.keras.layers.Dense(5, activation='softmax'),         \n",
        "])\n",
        "#,activity_regularizer=regularizers.l2(0.01)\n",
        "#tf.keras.layers.Dropout(0.2),   "
      ]
    },
    {
      "cell_type": "code",
      "execution_count": null,
      "metadata": {
        "id": "0POjxuLYzucF"
      },
      "outputs": [],
      "source": [
        "model_FCN.build(X_train.shape)"
      ]
    },
    {
      "cell_type": "code",
      "execution_count": null,
      "metadata": {
        "id": "AFjJxS_MDga-"
      },
      "outputs": [],
      "source": [
        "print(model_FCN.summary())"
      ]
    },
    {
      "cell_type": "code",
      "execution_count": null,
      "metadata": {
        "id": "-IFzOfPUzueL"
      },
      "outputs": [],
      "source": [
        "model_FCN.compile(optimizer='adam', loss=tf.keras.losses.SparseCategoricalCrossentropy(),metrics=['accuracy'])"
      ]
    },
    {
      "cell_type": "code",
      "execution_count": null,
      "metadata": {
        "id": "1Qtf_2o7zugd"
      },
      "outputs": [],
      "source": [
        "# Fit model  \n",
        "epochs = 1000           \n",
        "history_FCN = model_FCN.fit(X_train, y_train,epochs=epochs, batch_size=128,validation_split = 0.2, shuffle=True)"
      ]
    },
    {
      "cell_type": "code",
      "execution_count": null,
      "metadata": {
        "id": "ehjPM6A_zuit"
      },
      "outputs": [],
      "source": [
        "# list all data in history\n",
        "print(history_FCN.history.keys())"
      ]
    },
    {
      "cell_type": "code",
      "execution_count": null,
      "metadata": {
        "id": "SZpRD419zuk7"
      },
      "outputs": [],
      "source": [
        "acc = history_FCN.history['accuracy']\n",
        "val_acc = history_FCN.history['val_accuracy']\n",
        "\n",
        "loss = history_FCN.history['loss']\n",
        "val_loss = history_FCN.history['val_loss']"
      ]
    },
    {
      "cell_type": "code",
      "execution_count": null,
      "metadata": {
        "id": "SnyUQJ3kzunE"
      },
      "outputs": [],
      "source": [
        "epochs_range = range(epochs)\n",
        "\n",
        "plt.figure(figsize=(8, 8))\n",
        "plt.subplot(1, 2, 1)\n",
        "plt.plot(epochs_range, acc, label='Training Accuracy')\n",
        "plt.plot(epochs_range, val_acc, label='Validation Accuracy')\n",
        "plt.legend(loc='lower right')\n",
        "plt.title('Training and Validation Accuracy')\n",
        "\n",
        "plt.subplot(1, 2, 2)\n",
        "plt.plot(epochs_range, loss, label='Training Loss')\n",
        "plt.plot(epochs_range, val_loss, label='Validation Loss')\n",
        "plt.legend(loc='upper right')\n",
        "plt.title('Training and Validation Loss')\n",
        "plt.show()"
      ]
    },
    {
      "cell_type": "code",
      "execution_count": null,
      "metadata": {
        "id": "pEkVRhK7zupC"
      },
      "outputs": [],
      "source": [
        "# summarize history for loss\n",
        "plt.plot(history_FCN.history['loss'])\n",
        "plt.plot(history_FCN.history['val_loss'])\n",
        "plt.title('model loss')\n",
        "plt.ylabel('loss')\n",
        "plt.xlabel('epoch')\n",
        "plt.legend(['train', 'test'], loc='upper right')\n",
        "plt.show()"
      ]
    },
    {
      "cell_type": "code",
      "execution_count": null,
      "metadata": {
        "id": "2Cz-PEfYunwJ"
      },
      "outputs": [],
      "source": [
        "# Model evaluation with test data set \n",
        "# Prediction at test data set\n",
        "Y_pred = model_FCN.predict(X_test)\n",
        "Y_predict_class = tf.argmax(Y_pred, axis=-1)\n",
        "print(Y_predict_class)\n",
        "score = model_FCN.evaluate(X_test, y_test,batch_size=10, verbose=1)\n",
        "print(score)\n",
        "print(\"Baseline Error: %.2f%%\" % (100-score[1]*100))"
      ]
    },
    {
      "cell_type": "code",
      "execution_count": null,
      "metadata": {
        "id": "HPiEqBPvCywN"
      },
      "outputs": [],
      "source": [
        "FCN_accuracy = accuracy_score(Y_predict_class, y_test)\n",
        "print(\"Accuracy: %.2f%%\" % (FCN_accuracy * 100.0))\n",
        "print(classification_report(Y_predict_class, y_test))\n",
        "print(confusion_matrix(Y_predict_class, y_test))"
      ]
    },
    {
      "cell_type": "code",
      "execution_count": null,
      "metadata": {
        "id": "LlbzSPex6Ju2"
      },
      "outputs": [],
      "source": [
        "#model_FCN.save('/content/drive/MyDrive/Colab Notebooks/Model_save/Deep_Learning/model_FCN_17032022')"
      ]
    },
    {
      "cell_type": "markdown",
      "metadata": {
        "id": "Rk-jJB8--OYs"
      },
      "source": [
        "\n",
        "\n",
        "---\n",
        "\n"
      ]
    },
    {
      "cell_type": "markdown",
      "metadata": {
        "id": "QxfiekLW-Pnc"
      },
      "source": [
        "# **RNN**"
      ]
    },
    {
      "cell_type": "code",
      "execution_count": null,
      "metadata": {
        "id": "5Tdan_iZ-UBC"
      },
      "outputs": [],
      "source": [
        "print(X_train.shape)\n",
        "print(X_test.shape)"
      ]
    },
    {
      "cell_type": "code",
      "execution_count": null,
      "metadata": {
        "id": "tFTHKEWq-UDQ"
      },
      "outputs": [],
      "source": [
        "nrows, ncols = X_train.shape\n",
        "nrows1, ncols1 = X_test.shape\n",
        "X_train_re = X_train.reshape(nrows, ncols, 1)\n",
        "X_test_re = X_test.reshape(nrows1, ncols1, 1)\n",
        "print(X_train_re.shape)\n",
        "print(X_test_re.shape)"
      ]
    },
    {
      "cell_type": "code",
      "execution_count": null,
      "metadata": {
        "id": "2xJ-1qPY-UFg"
      },
      "outputs": [],
      "source": [
        "model_RNN = tf.keras.Sequential()\n",
        "model_RNN.add(tf.keras.layers.SimpleRNN(56,return_sequences= True)),\n",
        "model_RNN.add(tf.keras.layers.SimpleRNN(56)),\n",
        "model_RNN.add(tf.keras.layers.Dense(5, activation='softmax'))\n",
        "\n",
        "#,activity_regularizer=regularizers.l2(0.1)\n",
        "#model_RNN.add(tf.keras.layers.Dropout(0.2)), "
      ]
    },
    {
      "cell_type": "code",
      "execution_count": null,
      "metadata": {
        "id": "V4Xxgt4E-UHT"
      },
      "outputs": [],
      "source": [
        "model_RNN.compile(optimizer = tf.keras.optimizers.Adam(learning_rate=0.001), loss=tf.keras.losses.SparseCategoricalCrossentropy(),metrics=['accuracy'])"
      ]
    },
    {
      "cell_type": "code",
      "execution_count": null,
      "metadata": {
        "id": "5l0Zqt7r_6j_"
      },
      "outputs": [],
      "source": [
        "model_RNN.build(X_train_re.shape)"
      ]
    },
    {
      "cell_type": "code",
      "execution_count": null,
      "metadata": {
        "id": "JGAV3Wvg_6mf"
      },
      "outputs": [],
      "source": [
        "print(model_RNN.summary())"
      ]
    },
    {
      "cell_type": "code",
      "execution_count": null,
      "metadata": {
        "id": "dtqVlNJ6_6ot"
      },
      "outputs": [],
      "source": [
        "# Fit model  \n",
        "epochs = 1000            \n",
        "history_RNN = model_RNN.fit(X_train_re, y_train,epochs=epochs, batch_size=128,validation_split = 0.2, shuffle=True)"
      ]
    },
    {
      "cell_type": "code",
      "execution_count": null,
      "metadata": {
        "id": "OYZQta3n_6qn"
      },
      "outputs": [],
      "source": [
        "# list all data in history\n",
        "print(history_RNN.history.keys())"
      ]
    },
    {
      "cell_type": "code",
      "execution_count": null,
      "metadata": {
        "id": "LGrFln3BEzS0"
      },
      "outputs": [],
      "source": [
        "acc = history_RNN.history['accuracy']\n",
        "val_acc = history_RNN.history['val_accuracy']\n",
        "\n",
        "loss = history_RNN.history['loss']\n",
        "val_loss = history_RNN.history['val_loss']"
      ]
    },
    {
      "cell_type": "code",
      "execution_count": null,
      "metadata": {
        "id": "34TJmMc5EzVO"
      },
      "outputs": [],
      "source": [
        "epochs_range = range(epochs)\n",
        "\n",
        "plt.figure(figsize=(8, 8))\n",
        "plt.subplot(1, 2, 1)\n",
        "plt.plot(epochs_range, acc, label='Training Accuracy')\n",
        "plt.plot(epochs_range, val_acc, label='Validation Accuracy')\n",
        "plt.legend(loc='lower right')\n",
        "plt.title('Training and Validation Accuracy')\n",
        "\n",
        "plt.subplot(1, 2, 2)\n",
        "plt.plot(epochs_range, loss, label='Training Loss')\n",
        "plt.plot(epochs_range, val_loss, label='Validation Loss')\n",
        "plt.legend(loc='upper right')\n",
        "plt.title('Training and Validation Loss')\n",
        "plt.show()"
      ]
    },
    {
      "cell_type": "code",
      "execution_count": null,
      "metadata": {
        "id": "PYZ1dX1IEzW6"
      },
      "outputs": [],
      "source": [
        "# summarize history for loss\n",
        "plt.plot(history_RNN.history['loss'])\n",
        "plt.plot(history_RNN.history['val_loss'])\n",
        "plt.title('model loss')\n",
        "plt.ylabel('loss')\n",
        "plt.xlabel('epoch')\n",
        "plt.legend(['train', 'test'], loc='upper right')\n",
        "plt.show()"
      ]
    },
    {
      "cell_type": "code",
      "execution_count": null,
      "metadata": {
        "id": "xjUW6XtEE4IF"
      },
      "outputs": [],
      "source": [
        "# Model evaluation with test data set \n",
        "# Prediction at test data set\n",
        "Y_pred = model_RNN.predict(X_test_re)\n",
        "Y_predict_class = tf.argmax(Y_pred, axis=-1)\n",
        "score = model_RNN.evaluate(X_test_re, y_test,batch_size=10, verbose=1)\n",
        "print(score)\n",
        "print(\"Baseline Error: %.2f%%\" % (100-score[1]*100))"
      ]
    },
    {
      "cell_type": "code",
      "execution_count": null,
      "metadata": {
        "id": "Hw5xox5XE4KA"
      },
      "outputs": [],
      "source": [
        "RNN_accuracy = accuracy_score(Y_predict_class, y_test)\n",
        "print(\"Accuracy: %.2f%%\" % (RNN_accuracy * 100.0))\n",
        "print(classification_report(Y_predict_class, y_test))\n",
        "print(confusion_matrix(Y_predict_class, y_test))\n",
        "print(sklearn.metrics.cohen_kappa_score(Y_predict_class, y_test))\n",
        "\n",
        "labels = [\"0\", \"1\", \"2\", \"3\", \"4\"]\n",
        "disp = ConfusionMatrixDisplay(confusion_matrix=confusion_matrix(Y_predict_class, y_test),display_labels=labels)\n",
        "disp.plot()\n",
        "plt.show()"
      ]
    },
    {
      "cell_type": "code",
      "execution_count": null,
      "metadata": {
        "id": "D6uUeR6B_VZ4"
      },
      "outputs": [],
      "source": [
        "#model_RNN.save('/content/drive/MyDrive/Colab Notebooks/Model_save/Deep_Learning/model_RNN_Jan_Jul_2019_28042022')\n",
        "#model_RNN.save('/content/drive/MyDrive/Colab Notebooks/Model_save/Deep_Learning/model_RNN_MinMaxScaler_22032022')"
      ]
    },
    {
      "cell_type": "markdown",
      "metadata": {
        "id": "of_tC_eX-P-X"
      },
      "source": [
        "\n",
        "---\n",
        "\n"
      ]
    },
    {
      "cell_type": "markdown",
      "metadata": {
        "id": "0Uhm2-d1UHAJ"
      },
      "source": [
        "# **LSTM**"
      ]
    },
    {
      "cell_type": "code",
      "execution_count": null,
      "metadata": {
        "id": "ZVWgOwLpYR-2"
      },
      "outputs": [],
      "source": [
        "model_LSTM = tf.keras.Sequential()\n",
        "model_LSTM.add(tf.keras.layers.LSTM(56,return_sequences= True)),\n",
        "model_LSTM.add(tf.keras.layers.LSTM(56)),\n",
        "model_LSTM.add(tf.keras.layers.Dense(5, activation='softmax'))\n",
        "#,dropout=0.1\n",
        "#,activity_regularizer=regularizers.l2(0.1)"
      ]
    },
    {
      "cell_type": "code",
      "execution_count": null,
      "metadata": {
        "id": "uFhs1wzoiQ8Z"
      },
      "outputs": [],
      "source": [
        "model_LSTM.compile(optimizer = tf.keras.optimizers.Adam(learning_rate=0.001), loss=tf.keras.losses.SparseCategoricalCrossentropy(),metrics=['accuracy'])"
      ]
    },
    {
      "cell_type": "code",
      "execution_count": null,
      "metadata": {
        "id": "S9QKub1ctQaH"
      },
      "outputs": [],
      "source": [
        "model_LSTM.build(X_train_re.shape)"
      ]
    },
    {
      "cell_type": "code",
      "execution_count": null,
      "metadata": {
        "id": "bKIfiLgOcl5q"
      },
      "outputs": [],
      "source": [
        "print(model_LSTM.summary())"
      ]
    },
    {
      "cell_type": "code",
      "execution_count": null,
      "metadata": {
        "id": "bvi_e-Jzcl3c"
      },
      "outputs": [],
      "source": [
        "# Fit model  \n",
        "epochs = 1000            \n",
        "history_LSTM = model_LSTM.fit(X_train_re, y_train,epochs=epochs, batch_size=128,validation_split = 0.4, shuffle=True)"
      ]
    },
    {
      "cell_type": "code",
      "execution_count": null,
      "metadata": {
        "id": "4IjsooM8cl9w"
      },
      "outputs": [],
      "source": [
        "# list all data in history\n",
        "print(history_LSTM.history.keys())"
      ]
    },
    {
      "cell_type": "code",
      "execution_count": null,
      "metadata": {
        "id": "ah0MdkSwcl_4"
      },
      "outputs": [],
      "source": [
        "acc = history_LSTM.history['accuracy']\n",
        "val_acc = history_LSTM.history['val_accuracy']\n",
        "\n",
        "loss = history_LSTM.history['loss']\n",
        "val_loss = history_LSTM.history['val_loss']"
      ]
    },
    {
      "cell_type": "code",
      "execution_count": null,
      "metadata": {
        "id": "5RefQlLUu-N3"
      },
      "outputs": [],
      "source": [
        "epochs_range = range(epochs)\n",
        "\n",
        "plt.figure(figsize=(8, 8))\n",
        "plt.subplot(1, 2, 1)\n",
        "plt.plot(epochs_range, acc, label='Training Accuracy')\n",
        "plt.plot(epochs_range, val_acc, label='Validation Accuracy')\n",
        "plt.legend(loc='lower right')\n",
        "plt.title('Training and Validation Accuracy')\n",
        "\n",
        "plt.subplot(1, 2, 2)\n",
        "plt.plot(epochs_range, loss, label='Training Loss')\n",
        "plt.plot(epochs_range, val_loss, label='Validation Loss')\n",
        "plt.legend(loc='upper right')\n",
        "plt.title('Training and Validation Loss')\n",
        "plt.show()"
      ]
    },
    {
      "cell_type": "code",
      "execution_count": null,
      "metadata": {
        "id": "g6lYfaVgu-QD"
      },
      "outputs": [],
      "source": [
        "# summarize history for loss\n",
        "plt.plot(history_LSTM.history['loss'])\n",
        "plt.plot(history_LSTM.history['val_loss'])\n",
        "plt.title('model loss')\n",
        "plt.ylabel('loss')\n",
        "plt.xlabel('epoch')\n",
        "plt.legend(['train', 'test'], loc='upper right')\n",
        "plt.show()"
      ]
    },
    {
      "cell_type": "code",
      "execution_count": null,
      "metadata": {
        "id": "WUaNbXoNu-SJ"
      },
      "outputs": [],
      "source": [
        "# Model evaluation with test data set \n",
        "# Prediction at test data set\n",
        "Y_pred = model_LSTM.predict(X_test_re)\n",
        "Y_predict_class = tf.argmax(Y_pred, axis=-1)\n",
        "score = model_LSTM.evaluate(X_test_re, y_test,batch_size=10, verbose=1)\n",
        "print(score)\n",
        "print(\"Baseline Error: %.2f%%\" % (100-score[1]*100))"
      ]
    },
    {
      "cell_type": "code",
      "execution_count": null,
      "metadata": {
        "id": "jDWOVkLBoc0v"
      },
      "outputs": [],
      "source": [
        "lstm_accuracy = accuracy_score(Y_predict_class, y_test)\n",
        "print(\"Accuracy: %.2f%%\" % (lstm_accuracy * 100.0))\n",
        "print(classification_report(Y_predict_class, y_test))\n",
        "print(confusion_matrix(Y_predict_class, y_test))\n",
        "\n",
        "print(sklearn.metrics.cohen_kappa_score(Y_predict_class, y_test))\n",
        "\n",
        "labels = [\"0\", \"1\", \"2\", \"3\", \"4\"]\n",
        "disp = ConfusionMatrixDisplay(confusion_matrix=confusion_matrix(Y_predict_class, y_test),display_labels=labels)\n",
        "disp.plot()\n",
        "plt.show()"
      ]
    },
    {
      "cell_type": "code",
      "execution_count": null,
      "metadata": {
        "id": "7KncDYw1_Yu6"
      },
      "outputs": [],
      "source": [
        "model_LSTM.save('/content/drive/MyDrive/Colab Notebooks/Model_save/Deep_Learning/model_LSTM_Jan_Jul_2019_28042022')\n",
        "#model_LSTM.save('/content/drive/MyDrive/Colab Notebooks/Model_save/Deep_Learning/model_LSTM_31032022_tune')\n",
        "#model_LSTM.save('/content/drive/MyDrive/Colab Notebooks/Model_save/Deep_Learning/model_LSTMMinMaxScaler_22032022')"
      ]
    },
    {
      "cell_type": "markdown",
      "metadata": {
        "id": "7S_ai5ER4Tpn"
      },
      "source": [
        "---------------------"
      ]
    },
    {
      "cell_type": "markdown",
      "metadata": {
        "id": "_Iti32o44U2m"
      },
      "source": [
        "# Bidirectional LSTM"
      ]
    },
    {
      "cell_type": "code",
      "execution_count": null,
      "metadata": {
        "id": "Pkhx5CCw4U9O"
      },
      "outputs": [],
      "source": [
        "model_BI_LSTM = tf.keras.Sequential()\n",
        "model_BI_LSTM.add(tf.keras.layers.Bidirectional(tf.keras.layers.LSTM(56,return_sequences= True))),\n",
        "model_BI_LSTM.add(tf.keras.layers.Bidirectional(tf.keras.layers.LSTM(56))),\n",
        "model_BI_LSTM.add(tf.keras.layers.Dense(5, activation='softmax'))\n",
        "#,dropout=0.1\n",
        "#,activity_regularizer=regularizers.l2(0.1)"
      ]
    },
    {
      "cell_type": "code",
      "execution_count": null,
      "metadata": {
        "id": "tIpqrSVN4U_t"
      },
      "outputs": [],
      "source": [
        "model_BI_LSTM.compile(optimizer = tf.keras.optimizers.Adam(learning_rate=0.001), loss=tf.keras.losses.SparseCategoricalCrossentropy(),metrics=['accuracy'])"
      ]
    },
    {
      "cell_type": "code",
      "execution_count": null,
      "metadata": {
        "id": "KKgsE56h4VCH"
      },
      "outputs": [],
      "source": [
        "model_BI_LSTM.build(X_train_re.shape)"
      ]
    },
    {
      "cell_type": "code",
      "execution_count": null,
      "metadata": {
        "id": "2MqokmjU4VEF"
      },
      "outputs": [],
      "source": [
        "print(model_BI_LSTM.summary())"
      ]
    },
    {
      "cell_type": "code",
      "execution_count": null,
      "metadata": {
        "id": "8Y97NWwu4VF9"
      },
      "outputs": [],
      "source": [
        "# Fit model  \n",
        "epochs = 1000            \n",
        "history_BI_LSTM = model_BI_LSTM.fit(X_train_re, y_train,epochs=epochs, batch_size=128,validation_split = 0.4, shuffle=True)"
      ]
    },
    {
      "cell_type": "code",
      "execution_count": null,
      "metadata": {
        "id": "JLreAKEY4tg_"
      },
      "outputs": [],
      "source": [
        "# list all data in history\n",
        "print(history_BI_LSTM.history.keys())"
      ]
    },
    {
      "cell_type": "code",
      "execution_count": null,
      "metadata": {
        "id": "CPUBtioT4tjF"
      },
      "outputs": [],
      "source": [
        "acc = history_BI_LSTM.history['accuracy']\n",
        "val_acc = history_BI_LSTM.history['val_accuracy']\n",
        "\n",
        "loss = history_BI_LSTM.history['loss']\n",
        "val_loss = history_BI_LSTM.history['val_loss']"
      ]
    },
    {
      "cell_type": "code",
      "execution_count": null,
      "metadata": {
        "id": "O4fmPgjv4tlC"
      },
      "outputs": [],
      "source": [
        "epochs_range = range(epochs)\n",
        "\n",
        "plt.figure(figsize=(8, 8))\n",
        "plt.subplot(1, 2, 1)\n",
        "plt.plot(epochs_range, acc, label='Training Accuracy')\n",
        "plt.plot(epochs_range, val_acc, label='Validation Accuracy')\n",
        "plt.legend(loc='lower right')\n",
        "plt.title('Training and Validation Accuracy')\n",
        "\n",
        "plt.subplot(1, 2, 2)\n",
        "plt.plot(epochs_range, loss, label='Training Loss')\n",
        "plt.plot(epochs_range, val_loss, label='Validation Loss')\n",
        "plt.legend(loc='upper right')\n",
        "plt.title('Training and Validation Loss')\n",
        "plt.show()"
      ]
    },
    {
      "cell_type": "code",
      "execution_count": null,
      "metadata": {
        "id": "OVVd1GvC463F"
      },
      "outputs": [],
      "source": [
        "# summarize history for loss\n",
        "plt.plot(history_BI_LSTM.history['loss'])\n",
        "plt.plot(history_BI_LSTM.history['val_loss'])\n",
        "plt.title('model loss')\n",
        "plt.ylabel('loss')\n",
        "plt.xlabel('epoch')\n",
        "plt.legend(['train', 'test'], loc='upper right')\n",
        "plt.show()"
      ]
    },
    {
      "cell_type": "code",
      "execution_count": null,
      "metadata": {
        "id": "74l2Tkxk465T"
      },
      "outputs": [],
      "source": [
        "# Model evaluation with test data set \n",
        "# Prediction at test data set\n",
        "Y_pred = model_BI_LSTM.predict(X_test_re)\n",
        "Y_predict_class = tf.argmax(Y_pred, axis=-1)\n",
        "score = model_BI_LSTM.evaluate(X_test_re, y_test,batch_size=10, verbose=1)\n",
        "print(score)\n",
        "print(\"Baseline Error: %.2f%%\" % (100-score[1]*100))"
      ]
    },
    {
      "cell_type": "code",
      "execution_count": null,
      "metadata": {
        "id": "2l3PWj0u467j"
      },
      "outputs": [],
      "source": [
        "BI_lstm_accuracy = accuracy_score(Y_predict_class, y_test)\n",
        "print(\"Accuracy: %.2f%%\" % (BI_lstm_accuracy * 100.0))\n",
        "print(classification_report(Y_predict_class, y_test))\n",
        "print(confusion_matrix(Y_predict_class, y_test))\n",
        "\n",
        "print(sklearn.metrics.cohen_kappa_score(Y_predict_class, y_test))\n",
        "\n",
        "labels = [\"0\", \"1\", \"2\", \"3\", \"4\"]\n",
        "disp = ConfusionMatrixDisplay(confusion_matrix=confusion_matrix(Y_predict_class, y_test),display_labels=labels)\n",
        "disp.plot()\n",
        "plt.show()"
      ]
    },
    {
      "cell_type": "code",
      "execution_count": null,
      "metadata": {
        "id": "G_EOCun04tm4"
      },
      "outputs": [],
      "source": [
        "model_BI_LSTM.save('/content/drive/MyDrive/Colab Notebooks/Model_save/Deep_Learning/model_BI_LSTM_Jan_Jul_2019_28042022')"
      ]
    },
    {
      "cell_type": "markdown",
      "metadata": {
        "id": "ewo2mXIYy9xe"
      },
      "source": [
        "\n",
        "\n",
        "---\n",
        "\n",
        "\n"
      ]
    },
    {
      "cell_type": "markdown",
      "metadata": {
        "id": "d6pKBfCpm9gN"
      },
      "source": [
        "# Load Model"
      ]
    },
    {
      "cell_type": "code",
      "execution_count": null,
      "metadata": {
        "id": "6-KmwhLMnAne"
      },
      "outputs": [],
      "source": [
        "# load the model from disk\n",
        "filename = '/content/drive/MyDrive/Colab Notebooks/Model_save/MLP_grid_cv_14022022.sav'\n",
        "\n",
        "#filename = '/content/drive/MyDrive/Colab Notebooks/Model_save/Machine_Learning/Sentinel-1_Jan_Jul_2019_SVC_grid_cv_13042022.sav'\n",
        "loaded_model = pickle.load(open(filename, 'rb'))\n",
        "result = loaded_model.score(X_test, y_test)\n",
        "print(result)"
      ]
    },
    {
      "cell_type": "markdown",
      "metadata": {
        "id": "q9tWcN4Bm9op"
      },
      "source": [
        "\n",
        "\n",
        "---\n",
        "\n",
        "\n",
        "\n"
      ]
    },
    {
      "cell_type": "markdown",
      "metadata": {
        "id": "XuOmC8-2C8LG"
      },
      "source": [
        "# **Prepare image for predict**"
      ]
    },
    {
      "cell_type": "code",
      "execution_count": null,
      "metadata": {
        "id": "uWyrjlCPsyof"
      },
      "outputs": [],
      "source": [
        "with rasterio.open(raster_file) as src:\n",
        "    # may need to reduce this image size if your kernel crashes, takes a lot of memory\n",
        "    img = src.read()[:, :, :]\n",
        "\n",
        "# Take our full image and reshape into long 2d array (nrow * ncol, nband) for classification\n",
        "print(img.shape)\n",
        "reshaped_img = reshape_as_image(img)\n",
        "print(reshaped_img.shape)"
      ]
    },
    {
      "cell_type": "markdown",
      "metadata": {
        "id": "aM0fWgrwAAgm"
      },
      "source": [
        "\n",
        "\n",
        "---\n",
        "\n"
      ]
    },
    {
      "cell_type": "markdown",
      "metadata": {
        "id": "tziSz1ud1EIJ"
      },
      "source": [
        "# **ML Predict**"
      ]
    },
    {
      "cell_type": "code",
      "execution_count": null,
      "metadata": {
        "id": "OXn1F3L4ubHU"
      },
      "outputs": [],
      "source": [
        "filename = '/content/drive/MyDrive/Colab Notebooks/Model_save/Machine_Learning/Sentinel-1_Jan_Jul_2019_KNN_grid_cv_13042022.sav'\n",
        "loaded_model_KNN_grid_cv = pickle.load(open(filename, 'rb'))\n",
        "\n",
        "#class_prediction = RF_model.predict(reshaped_img.reshape(-1, 24))\n",
        "class_prediction = loaded_model_KNN_grid_cv.predict(reshaped_img.reshape(-1, 14))\n",
        "# Reshape our classification map back into a 2D matrix so we can visualize it\n",
        "class_prediction = class_prediction.reshape(reshaped_img[:, :, 0].shape)\n",
        "\n",
        "with rasterio.open(\n",
        "    '/content/drive/MyDrive/Colab Notebooks/result/Result.tif',\n",
        "    'w',\n",
        "    driver='GTiff',\n",
        "    height=class_prediction.shape[0],\n",
        "    width=class_prediction.shape[1],\n",
        "    count=1,\n",
        "    dtype='float32'\n",
        ") as dst:\n",
        "    dst.write(class_prediction, 1)"
      ]
    },
    {
      "cell_type": "markdown",
      "metadata": {
        "id": "PaSlVfetGgF0"
      },
      "source": [
        "\n",
        "\n",
        "---\n",
        "\n"
      ]
    },
    {
      "cell_type": "markdown",
      "metadata": {
        "id": "7jgGPYO7Ghau"
      },
      "source": [
        "# **DL Predict**"
      ]
    },
    {
      "cell_type": "code",
      "execution_count": null,
      "metadata": {
        "id": "Qv-Y29ILGlnI"
      },
      "outputs": [],
      "source": [
        "with rasterio.open(raster_file) as src:\n",
        "    # may need to reduce this image size if your kernel crashes, takes a lot of memory\n",
        "    img = src.read()[:, :, :]\n",
        "\n",
        "# Take our full image and reshape into long 2d array (nrow * ncol, nband) for classification\n",
        "print(img.shape)\n",
        "reshaped_img = reshape_as_image(img)\n",
        "print(reshaped_img.shape)"
      ]
    },
    {
      "cell_type": "markdown",
      "metadata": {
        "id": "EA5qHkMFyNY5"
      },
      "source": [
        "# **FCN Predict Image**"
      ]
    },
    {
      "cell_type": "code",
      "execution_count": null,
      "metadata": {
        "id": "0nu-Do7ZJ7Ua"
      },
      "outputs": [],
      "source": [
        "from tensorflow import keras\n",
        "#model_FCN = keras.models.load_model('/content/drive/MyDrive/Colab Notebooks/Model_save/Deep_Learning/model_FCN_17032022')\n",
        "#class_prediction = model_FCN.predict(reshaped_img.reshape(-1, 24))\n",
        "class_prediction = model_FCN.predict(reshaped_img.reshape(-1, 8))\n",
        "class_prediction_argmax = np.argmax(class_prediction, axis=-1)\n",
        "class_prediction_argmax_reshape = class_prediction_argmax.reshape(reshaped_img[:, :, 0].shape)\n",
        "with rasterio.open(\n",
        "    '/content/drive/MyDrive/Colab Notebooks/result/Sentinel-1_Jan_Dec_2019_FCN_model_06042022.tif',\n",
        "    'w',\n",
        "    driver='GTiff',\n",
        "    height=class_prediction_argmax_reshape.shape[0],\n",
        "    width=class_prediction_argmax_reshape.shape[1],\n",
        "    count=1,\n",
        "    dtype='float32'\n",
        ") as dst:\n",
        "    dst.write(class_prediction_argmax_reshape, 1)"
      ]
    },
    {
      "cell_type": "markdown",
      "metadata": {
        "id": "tDrgRvXCjOXA"
      },
      "source": [
        "# **RNN Predict Image**"
      ]
    },
    {
      "cell_type": "code",
      "execution_count": null,
      "metadata": {
        "id": "84O9scn_jW_3"
      },
      "outputs": [],
      "source": [
        "from tensorflow import keras\n",
        "#model_RNN = keras.models.load_model('/content/drive/MyDrive/Colab Notebooks/Model_save/Deep_Learning/model_RNN_17032022')\n",
        "#class_prediction = model_RNN.predict(reshaped_img.reshape(-1, 24))\n",
        "class_prediction = model_RNN.predict(reshaped_img.reshape(-1,14))\n",
        "class_prediction_argmax = np.argmax(class_prediction, axis=-1)\n",
        "class_prediction_argmax_reshape = class_prediction_argmax.reshape(reshaped_img[:, :, 0].shape)\n",
        "with rasterio.open(\n",
        "    '/content/drive/MyDrive/Colab Notebooks/result/Sentinel-1_Jan_Jul_2019_RNN_model_28042022.tif',\n",
        "    'w',\n",
        "    driver='GTiff',\n",
        "    height=class_prediction_argmax_reshape.shape[0],\n",
        "    width=class_prediction_argmax_reshape.shape[1],\n",
        "    count=1,\n",
        "    dtype='float32'\n",
        ") as dst:\n",
        "    dst.write(class_prediction_argmax_reshape, 1)"
      ]
    },
    {
      "cell_type": "markdown",
      "metadata": {
        "id": "M4Ye6jxGy5y3"
      },
      "source": [
        "# **LSTM Predict image**"
      ]
    },
    {
      "cell_type": "code",
      "execution_count": null,
      "metadata": {
        "id": "8YEk5fV2KGFl"
      },
      "outputs": [],
      "source": [
        "from tensorflow import keras\n",
        "#model_LSTM = keras.models.load_model('/content/drive/MyDrive/Colab Notebooks/Model_save/Deep_Learning/model_LSTM_31032022_tune')\n",
        "class_prediction = model_LSTM.predict(reshaped_img.reshape(-1, 14))\n",
        "#class_prediction = model_LSTM.predict(reshaped_img.reshape(-1, 8))\n",
        "class_prediction_argmax = np.argmax(class_prediction, axis=-1)\n",
        "class_prediction_argmax_reshape = class_prediction_argmax.reshape(reshaped_img[:, :, 0].shape)\n",
        "with rasterio.open(\n",
        "    '/content/drive/MyDrive/Colab Notebooks/result/Sentinel-1_Jan_Jul_2019_LSTM_model_28042022.tif',\n",
        "    'w',\n",
        "    driver='GTiff',\n",
        "    height=class_prediction_argmax_reshape.shape[0],\n",
        "    width=class_prediction_argmax_reshape.shape[1],\n",
        "    count=1,\n",
        "    dtype='float32'\n",
        ") as dst:\n",
        "    dst.write(class_prediction_argmax_reshape, 1)"
      ]
    },
    {
      "cell_type": "markdown",
      "metadata": {
        "id": "-8icNQBm-ROE"
      },
      "source": [
        "# **BI LSTM Predict image**"
      ]
    },
    {
      "cell_type": "code",
      "execution_count": null,
      "metadata": {
        "id": "o5k_EPH9-RWQ"
      },
      "outputs": [],
      "source": [
        "from tensorflow import keras\n",
        "#model_LSTM = keras.models.load_model('/content/drive/MyDrive/Colab Notebooks/Model_save/Deep_Learning/model_LSTM_31032022_tune')\n",
        "class_prediction = model_BI_LSTM.predict(reshaped_img.reshape(-1, 14))\n",
        "class_prediction_argmax = np.argmax(class_prediction, axis=-1)\n",
        "class_prediction_argmax_reshape = class_prediction_argmax.reshape(reshaped_img[:, :, 0].shape)\n",
        "with rasterio.open(\n",
        "    '/content/drive/MyDrive/Colab Notebooks/result/Sentinel-1_Jan_Jul_2019_BI_LSTM_model_28042022.tif',\n",
        "    'w',\n",
        "    driver='GTiff',\n",
        "    height=class_prediction_argmax_reshape.shape[0],\n",
        "    width=class_prediction_argmax_reshape.shape[1],\n",
        "    count=1,\n",
        "    dtype='float32'\n",
        ") as dst:\n",
        "    dst.write(class_prediction_argmax_reshape, 1)"
      ]
    }
  ],
  "metadata": {
    "accelerator": "GPU",
    "colab": {
      "collapsed_sections": [],
      "machine_shape": "hm",
      "name": "GEE_phd_obj1_2_advisor_dev.ipynb",
      "provenance": [],
      "toc_visible": true
    },
    "kernelspec": {
      "display_name": "Python 3",
      "name": "python3"
    },
    "language_info": {
      "name": "python"
    }
  },
  "nbformat": 4,
  "nbformat_minor": 0
}
